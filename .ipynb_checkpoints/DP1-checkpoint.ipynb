{
 "cells": [
  {
   "cell_type": "markdown",
   "source": [
    "import numpy as np\n",
    "import pandas as pd\n",
    "\n",
    "dataset= pd.read_csv(\"amazon.csv\")\n",
    "print(dataset.head(50))"
   ],
   "metadata": {
    "collapsed": false
   }
  },
  {
   "cell_type": "markdown",
   "source": [],
   "metadata": {
    "collapsed": false
   }
  }
 ],
 "metadata": {},
 "nbformat": 4,
 "nbformat_minor": 5
}
